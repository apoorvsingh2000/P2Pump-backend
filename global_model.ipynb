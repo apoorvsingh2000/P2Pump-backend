{
 "cells": [
  {
   "cell_type": "code",
   "execution_count": null,
   "metadata": {},
   "outputs": [],
   "source": [
    "# Install torch if not already installed\n",
    "# %pip install torch\n",
    "\n",
    "import torch\n",
    "import torch.nn as nn\n",
    "from datetime import datetime\n",
    "import io\n",
    "import time\n",
    "\n",
    "model = nn.Sequential(\n",
    "    nn.Linear(5, 1),\n",
    ")\n",
    "\n",
    "loss_fn = torch.nn.MSELoss()\n",
    "optimizer = torch.optim.Adam(model.parameters(), lr=0.001)\n"
   ]
  },
  {
   "cell_type": "code",
   "execution_count": null,
   "metadata": {},
   "outputs": [],
   "source": [
    "# GET WEIGHTS FROM ALL ADDRESSES\n",
    "import io\n",
    "weight_ls = []\n",
    "import urllib.request\n",
    "contents = None\n",
    "for add in address_ls:\n",
    "    contents = urllib.request.urlopen(\"http://\" + add + \"/uploadweights\").read()\n",
    "    print(contents)\n",
    "    if contents == b'shutdown':\n",
    "        for add in address_ls:\n",
    "            res = None\n",
    "            contents = urllib.request.urlopen(\"http://\" + add + \"/searchweights\").read()\n",
    "            if contents == b'shutdown':\n",
    "                continue\n",
    "            weights = torch.load(io.BytesIO(contents))\n",
    "            weight_ls.append(weights)\n"
   ]
  },
  {
   "cell_type": "code",
   "execution_count": null,
   "metadata": {},
   "outputs": [],
   "source": [
    "def average_weights(w_ls):\n",
    "    \"\"\"\n",
    "    Returns the average of the weights.\n",
    "    \"\"\"\n",
    "    w_avg = copy.deepcopy(w_ls[0])\n",
    "    for key in w_avg.keys():\n",
    "        for i in range(1, len(w_ls)):\n",
    "            w_avg[key] += w_ls[i][key]\n",
    "        w_avg[key] = torch.div(w_avg[key], len(w_ls))\n",
    "    return w_avg\n",
    "\n",
    "address_ls = [\"3.91.82.181\", \"3.92.27.19\"]\n",
    "\n",
    "# GET WEIGHTS FROM ALL ADDRESSES\n",
    "import io\n",
    "import urllib.request\n",
    "import torch\n",
    "import copy\n",
    "\n",
    "weight_ls = []\n",
    "contents = None\n",
    "for add in address_ls:\n",
    "    contents = urllib.request.urlopen(\"http://\" + add + \"/uploadweights\").read()\n",
    "    print(contents)\n",
    "    if contents == b'shutdown':\n",
    "        for add in address_ls:\n",
    "            res = None\n",
    "            contents = urllib.request.urlopen(\"http://\" + add + \"/searchweights\").read()\n",
    "            if contents == b'shutdown':\n",
    "                continue\n",
    "            weights = torch.load(io.BytesIO(contents))\n",
    "            weight_ls.append(weights)\n"
   ]
  },
  {
   "cell_type": "code",
   "execution_count": null,
   "metadata": {},
   "outputs": [],
   "source": [
    "import copy\n",
    "avg_weights = average_weights(weight_ls)\n",
    "\n",
    "model.load_state_dict(avg_weights)\n",
    "model_weights = torch.save(model.state_dict(), 'avg_weights')\n",
    "\n",
    "to_send = io.BytesIO()\n",
    "torch.save(model_weights, to_send, _use_new_zipfile_serialization=False)\n",
    "to_send.seek(0)\n"
   ]
  },
  {
   "cell_type": "code",
   "execution_count": null,
   "metadata": {},
   "outputs": [],
   "source": [
    "import requests\n",
    "for add in address_ls:\n",
    "    print(add)\n",
    "    print(requests.post(\"http://\" + add + \"/receiveweights\", data=to_send, headers={'Content-Type': 'application/octet-stream'}))\n"
   ]
  }
 ],
 "metadata": {
  "language_info": {
   "name": "python"
  }
 },
 "nbformat": 4,
 "nbformat_minor": 2
}
